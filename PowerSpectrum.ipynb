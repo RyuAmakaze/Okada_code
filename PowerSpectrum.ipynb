{
 "cells": [
  {
   "cell_type": "code",
   "execution_count": null,
   "metadata": {},
   "outputs": [],
   "source": [
    "from PIL import Image\n",
    "import numpy as np\n",
    "from matplotlib import pyplot as plt\n",
    "# パワースペクトルを出力する\n",
    "def Spectrum_Phase(filename):\n",
    "    \"\"\"\n",
    "        filename：入力画像\n",
    "    \"\"\"\n",
    "    # 画像を読み込む\n",
    "    img = Image.open(filename)\n",
    "    # グレイスケールに変換する\n",
    "    gray_img = img.convert('L')\n",
    "    # NumPy 配列にする\n",
    "    f_xy = np.asarray(gray_img)\n",
    "    # 2 次元高速フーリエ変換で周波数領域の情報を取り出す\n",
    "    f_uv = np.fft.fft2(f_xy)\n",
    "    # 画像の中心に低周波数の成分がくるように並べかえる\n",
    "    shifted_f_uv = np.fft.fftshift(f_uv)\n",
    "    # パワースペクトルに変換する\n",
    "    amplitude = np.absolute(shifted_f_uv)\n",
    "    ang = np.angle(shifted_f_uv)\n",
    "def to_image(amplitude, ang):\n",
    "    unshifted_amplitude = np.fft.fftshift(amplitude)\n",
    "    unshifted_ang = np.fft.fftshift(ang)\n",
    "    same_as_f = unshifted_amplitude * (np.cos(unshifted_ang) + np.sin(unshifted_ang) * 1j)\n",
    "    # 2 次元逆高速フーリエ変換で空間領域の情報に戻す\n",
    "    i_f_xy = np.fft.ifft2(same_as_f).real  # 実数部だけ使う\n",
    "    return i_f_xy\n",
    "    return amplitude, ang\n",
    "def Mix(char1, char2):\n",
    "    char1_file = 'Images/'+char1+'256.png'\n",
    "    char1_amplitude, char1_ang = Spectrum_Phase(char1_file)\n",
    "    char2_file = 'Images/'+char2+'256.png'\n",
    "    char2_amplitude, char2_ang = Spectrum_Phase(char2_file)\n",
    "    char1_char2 = to_image(char1_amplitude, char2_ang)\n",
    "    char2_char1 = to_image(char2_amplitude, char1_ang)\n",
    "    print(\"~~~~~~~~~~~~~~~~~~~~~~~~~~~~~~~~~~~~~~~~\")\n",
    "    print(\"スペクトルは\"+char1+\", 位相は\"+char2+\"です\")\n",
    "    plt.imshow(char1_char2, cmap=\"gray\")\n",
    "    plt.show()\n",
    "    print(\"スペクトルは\"+char2+\", 位相は\"+char1+\"です\")\n",
    "    plt.imshow(char2_char1, cmap=\"gray\")\n",
    "    plt.show()\n",
    "    print(\"~~~~~~~~~~~~~~~~~~~~~~~~~~~~~~~~~~~~~~~~\")"
   ]
  }
 ],
 "metadata": {
  "kernelspec": {
   "display_name": "Python 3",
   "language": "python",
   "name": "python3"
  },
  "language_info": {
   "codemirror_mode": {
    "name": "ipython",
    "version": 3
   },
   "file_extension": ".py",
   "mimetype": "text/x-python",
   "name": "python",
   "nbconvert_exporter": "python",
   "pygments_lexer": "ipython3",
   "version": "3.7.1"
  }
 },
 "nbformat": 4,
 "nbformat_minor": 2
}
