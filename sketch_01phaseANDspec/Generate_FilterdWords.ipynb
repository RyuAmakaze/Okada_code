{
 "cells": [
  {
   "cell_type": "code",
   "execution_count": 1,
   "metadata": {},
   "outputs": [
    {
     "name": "stdout",
     "output_type": "stream",
     "text": [
      "pygame 2.0.1 (SDL 2.0.14, Python 3.7.1)\n",
      "Hello from the pygame community. https://www.pygame.org/contribute.html\n"
     ]
    },
    {
     "name": "stderr",
     "output_type": "stream",
     "text": [
      "C:\\Users\\Yu Yamaoka\\Anaconda3\\lib\\site-packages\\pandas\\compat\\_optional.py:138: UserWarning: Pandas requires version '2.7.0' or newer of 'numexpr' (version '2.6.8' currently installed).\n",
      "  warnings.warn(msg, UserWarning)\n"
     ]
    }
   ],
   "source": [
    "import psychopy.filters\n",
    "from tkinter import *\n",
    "from tkinter import ttk\n",
    "import matplotlib.pyplot as plt\n",
    "import numpy as np\n",
    "from PIL import Image\n",
    "from PIL import ImageDraw\n",
    "import os\n",
    "\n",
    "def img_shiftedFuv(img_file):\n",
    "    img = Image.open(img_file)\n",
    "    gray_img = img.convert('L')\n",
    "    f_xy = np.asarray(gray_img)\n",
    "    f_uv = np.fft.fft2(f_xy)\n",
    "    shifted_f_uv = np.fft.fftshift(f_uv)\n",
    "    return shifted_f_uv\n",
    "\n",
    "def make_filer(ellipse_percentage, shifted_f_uv):\n",
    "    # フィルタ (ローパス) を用意する\n",
    "    x_pass_filter = Image.new(mode='L',  # 8-bit pixels, black and white\n",
    "                              size=(shifted_f_uv.shape[0],\n",
    "                                    shifted_f_uv.shape[1]),\n",
    "                              color=0,  # default black\n",
    "                              )\n",
    "    # 中心に円を描く\n",
    "    draw = ImageDraw.Draw(x_pass_filter)\n",
    "    # 円の半径\n",
    "    ellipse_r = shifted_f_uv.shape[0] * ellipse_percentage\n",
    "    # 画像の中心\n",
    "    center = (shifted_f_uv.shape[0] // 2,\n",
    "              shifted_f_uv.shape[1] // 2)\n",
    "    # 円の座標\n",
    "    ellipse_pos = (center[0] - ellipse_r,\n",
    "                   center[1] - ellipse_r,\n",
    "                   center[0] + ellipse_r,\n",
    "                   center[1] + ellipse_r)\n",
    "    draw.ellipse(ellipse_pos, fill=255)\n",
    "    # フィルタ\n",
    "    filter_array = np.asarray(x_pass_filter)\n",
    "    return filter_array\n",
    "\n",
    "def filter_save(shifted_f_uv, val, save_path):\n",
    "    if val == 0:\n",
    "        val =1\n",
    "    lp_filt = psychopy.filters.butter2d_lp(\n",
    "        size=(256,256),\n",
    "        cutoff=val/512,\n",
    "        n=4)\n",
    "    filtered_f_uv = np.multiply(shifted_f_uv, lp_filt)\n",
    "    unshifted_f_uv = np.fft.fftshift(filtered_f_uv)\n",
    "    i_f_xy = np.fft.ifft2(unshifted_f_uv).real\n",
    "\n",
    "    filter_not_butter = make_filer(val/512, shifted_f_uv)\n",
    "    filtered_f_uv_not_butter = np.multiply(shifted_f_uv, filter_not_butter)\n",
    "    unshifted_f_uv_not_butter = np.fft.fftshift(filtered_f_uv_not_butter)\n",
    "    i_f_xy_not_butter = np.fft.ifft2(unshifted_f_uv_not_butter).real\n",
    "\n",
    "    plt.imsave(save_path+'/'+str(val)+'_1.png',i_f_xy)\n",
    "    plt.imsave(save_path+'/'+str(val)+'_3.png',i_f_xy_not_butter)"
   ]
  },
  {
   "cell_type": "code",
   "execution_count": 2,
   "metadata": {},
   "outputs": [],
   "source": [
    "max_val = 256\n",
    "new_dir_path = 'pre_spec'+str(max_val)\n",
    "try:\n",
    "    os.makedirs(new_dir_path)\n",
    "except FileExistsError:\n",
    "    print('フォルダーが既に存在したためスルーしました')"
   ]
  },
  {
   "cell_type": "code",
   "execution_count": 5,
   "metadata": {},
   "outputs": [
    {
     "name": "stdout",
     "output_type": "stream",
     "text": [
      "Aはフォルダーが既に存在したためスルーしました\n",
      "Bはフォルダーが既に存在したためスルーしました\n",
      "Cはフォルダーが既に存在したためスルーしました\n",
      "Dはフォルダーが既に存在したためスルーしました\n",
      "Eはフォルダーが既に存在したためスルーしました\n",
      "Fはフォルダーが既に存在したためスルーしました\n",
      "Gはフォルダーが既に存在したためスルーしました\n",
      "Hはフォルダーが既に存在したためスルーしました\n",
      "Iはフォルダーが既に存在したためスルーしました\n",
      "Jはフォルダーが既に存在したためスルーしました\n",
      "Kはフォルダーが既に存在したためスルーしました\n",
      "Lはフォルダーが既に存在したためスルーしました\n",
      "Mはフォルダーが既に存在したためスルーしました\n",
      "Nはフォルダーが既に存在したためスルーしました\n",
      "Oはフォルダーが既に存在したためスルーしました\n",
      "Pはフォルダーが既に存在したためスルーしました\n",
      "Qはフォルダーが既に存在したためスルーしました\n",
      "Rはフォルダーが既に存在したためスルーしました\n",
      "Sはフォルダーが既に存在したためスルーしました\n",
      "Tはフォルダーが既に存在したためスルーしました\n",
      "Uはフォルダーが既に存在したためスルーしました\n",
      "Vはフォルダーが既に存在したためスルーしました\n",
      "Wはフォルダーが既に存在したためスルーしました\n",
      "Xはフォルダーが既に存在したためスルーしました\n",
      "Yはフォルダーが既に存在したためスルーしました\n",
      "Zはフォルダーが既に存在したためスルーしました\n"
     ]
    }
   ],
   "source": [
    "alp =[\"A\", \"B\", \"C\", \"D\", \"E\", \"F\", \"G\", \"H\", \"I\", \"J\", \"K\", \"L\", \"M\", \"N\", \"O\", \"P\", \"Q\",\"R\",\"S\",\"T\",\"U\",\"V\",\"W\",\"X\",\"Y\",\"Z\"]\n",
    "for i in range(len(alp)):\n",
    "    original_image_path = '../Images/'+alp[i]+'256.png'\n",
    "\n",
    "    phase_shifted_f_uv = img_shiftedFuv(original_image_path)\n",
    "\n",
    "    new_dir_path_folder = new_dir_path + \"/\" +alp[i]\n",
    "    try:\n",
    "        os.makedirs(new_dir_path_folder)\n",
    "    except FileExistsError:\n",
    "        print(str(alp[i])+'はフォルダーが既に存在したためスルーしました')\n",
    "\n",
    "    for radius in range(3,8):\n",
    "        filter_save(phase_shifted_f_uv, radius, new_dir_path_folder)"
   ]
  },
  {
   "cell_type": "code",
   "execution_count": 9,
   "metadata": {},
   "outputs": [],
   "source": []
  },
  {
   "cell_type": "code",
   "execution_count": 10,
   "metadata": {},
   "outputs": [],
   "source": []
  },
  {
   "cell_type": "code",
   "execution_count": 6,
   "metadata": {},
   "outputs": [],
   "source": []
  },
  {
   "cell_type": "code",
   "execution_count": null,
   "metadata": {},
   "outputs": [],
   "source": []
  }
 ],
 "metadata": {
  "kernelspec": {
   "display_name": "Python 3",
   "language": "python",
   "name": "python3"
  },
  "language_info": {
   "codemirror_mode": {
    "name": "ipython",
    "version": 3
   },
   "file_extension": ".py",
   "mimetype": "text/x-python",
   "name": "python",
   "nbconvert_exporter": "python",
   "pygments_lexer": "ipython3",
   "version": "3.7.1"
  }
 },
 "nbformat": 4,
 "nbformat_minor": 2
}
