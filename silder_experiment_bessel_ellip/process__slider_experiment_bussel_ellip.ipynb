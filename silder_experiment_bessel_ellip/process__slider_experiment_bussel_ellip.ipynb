{
 "cells": [
  {
   "cell_type": "code",
   "execution_count": 240,
   "metadata": {},
   "outputs": [],
   "source": [
    "import csv\n",
    "import pprint"
   ]
  },
  {
   "cell_type": "code",
   "execution_count": 241,
   "metadata": {},
   "outputs": [],
   "source": [
    "# 実験結果を集めたフォルダです。\n",
    "csv_folder = \"/Users/okadamasayuki/Desktop/slider_experiment_bessel_ellip/実験結果/\"\n",
    "# 実験結果を保存したファイルです。\n",
    "csv_filename = \"山岡さん_minスタート_1\"\n",
    "csv_file_path = csv_folder + csv_filename"
   ]
  },
  {
   "cell_type": "code",
   "execution_count": 242,
   "metadata": {},
   "outputs": [],
   "source": [
    "# csvファイルの情報をリスト形式にしています。\n",
    "with open(csv_file_path) as f:\n",
    "    reader = csv.reader(f)\n",
    "    l = [row for row in reader]"
   ]
  },
  {
   "cell_type": "code",
   "execution_count": 243,
   "metadata": {},
   "outputs": [
    {
     "data": {
      "text/plain": [
       "[['0', ' R', ' Ellip', ' 83'],\n",
       " ['1', ' D', ' Bessel', ' 30'],\n",
       " ['2', ' F', ' Bessel', ' 21'],\n",
       " ['3', ' F', ' Bessel', ' 22'],\n",
       " ['4', ' F', ' Ellip', ' 106'],\n",
       " ['5', ' D', ' Bessel', ' 31'],\n",
       " ['6', ' B', ' Bessel', ' 30'],\n",
       " ['7', ' D', ' Ellip', ' 96'],\n",
       " ['8', ' B', ' Bessel', ' 43'],\n",
       " ['9', ' M', ' Bessel', ' 44'],\n",
       " ['10', ' D', ' Bessel', ' 33'],\n",
       " ['11', ' M', ' Ellip', ' 121'],\n",
       " ['12', ' M', ' Ellip', ' 111'],\n",
       " ['13', ' B', ' Ellip', ' 108'],\n",
       " ['14', ' F', ' Bessel', ' 23'],\n",
       " ['15', ' R', ' Bessel', ' 23'],\n",
       " ['16', ' R', ' Bessel', ' 23'],\n",
       " ['17', ' B', ' Bessel', ' 37'],\n",
       " ['18', ' M', ' Bessel', ' 34'],\n",
       " ['19', ' M', ' Bessel', ' 33'],\n",
       " ['20', ' R', ' Bessel', ' 25'],\n",
       " ['21', ' D', ' Ellip', ' 108'],\n",
       " ['22', ' R', ' Ellip', ' 91'],\n",
       " ['23', ' M', ' Ellip', ' 101'],\n",
       " ['24', ' D', ' Ellip', ' 99'],\n",
       " ['25', ' D', ' Ellip', ' 103'],\n",
       " ['26', ' R', ' Bessel', ' 24'],\n",
       " ['27', ' D', ' Ellip', ' 116'],\n",
       " ['28', ' D', ' Ellip', ' 95'],\n",
       " ['29', ' R', ' Ellip', ' 104'],\n",
       " ['30', ' R', ' Bessel', ' 24'],\n",
       " ['31', ' D', ' Bessel', ' 50'],\n",
       " ['32', ' R', ' Ellip', ' 94'],\n",
       " ['33', ' R', ' Bessel', ' 24'],\n",
       " ['34', ' F', ' Bessel', ' 24'],\n",
       " ['35', ' M', ' Ellip', ' 110'],\n",
       " ['36', ' F', ' Ellip', ' 106'],\n",
       " ['37', ' F', ' Bessel', ' 25'],\n",
       " ['38', ' R', ' Bessel', ' 25'],\n",
       " ['39', ' B', ' Bessel', ' 45'],\n",
       " ['40', ' B', ' Ellip', ' 99'],\n",
       " ['41', ' F', ' Bessel', ' 27'],\n",
       " ['42', ' M', ' Bessel', ' 90'],\n",
       " ['43', ' B', ' Bessel', ' 35'],\n",
       " ['44', ' D', ' Bessel', ' 37'],\n",
       " ['45', ' B', ' Ellip', ' 100'],\n",
       " ['46', ' M', ' Bessel', ' 25'],\n",
       " ['47', ' M', ' Ellip', ' 111'],\n",
       " ['48', ' F', ' Ellip', ' 106'],\n",
       " ['49', ' B', ' Ellip', ' 99'],\n",
       " ['50', ' F', ' Ellip', ' 103'],\n",
       " ['51', ' M', ' Bessel', ' 43'],\n",
       " ['52', ' B', ' Ellip', ' 95'],\n",
       " ['53', ' B', ' Bessel', ' 44'],\n",
       " ['54', ' F', ' Ellip', ' 108'],\n",
       " ['55', ' B', ' Bessel', ' 40'],\n",
       " ['56', ' D', ' Ellip', ' 96'],\n",
       " ['57', ' R', ' Ellip', ' 85'],\n",
       " ['58', ' F', ' Bessel', ' 25'],\n",
       " ['59', ' R', ' Ellip', ' 93'],\n",
       " ['60', ' B', ' Ellip', ' 85'],\n",
       " ['61', ' B', ' Bessel', ' 43'],\n",
       " ['62', ' F', ' Ellip', ' 97'],\n",
       " ['63', ' F', ' Bessel', ' 23'],\n",
       " ['64', ' F', ' Ellip', ' 104'],\n",
       " ['65', ' D', ' Bessel', ' 39'],\n",
       " ['66', ' M', ' Ellip', ' 100'],\n",
       " ['67', ' B', ' Ellip', ' 91'],\n",
       " ['68', ' R', ' Bessel', ' 25'],\n",
       " ['69', ' M', ' Bessel', ' 45'],\n",
       " ['70', ' M', ' Ellip', ' 100'],\n",
       " ['71', ' R', ' Bessel', ' 25'],\n",
       " ['72', ' M', ' Ellip', ' 103'],\n",
       " ['73', ' M', ' Ellip', ' 94'],\n",
       " ['74', ' D', ' Ellip', ' 103'],\n",
       " ['75', ' D', ' Ellip', ' 102'],\n",
       " ['76', ' M', ' Bessel', ' 51'],\n",
       " ['77', ' F', ' Ellip', ' 101'],\n",
       " ['78', ' M', ' Ellip', ' 103'],\n",
       " ['79', ' B', ' Bessel', ' 46'],\n",
       " ['80', ' B', ' Bessel', ' 43'],\n",
       " ['81', ' R', ' Ellip', ' 101'],\n",
       " ['82', ' M', ' Bessel', ' 44'],\n",
       " ['83', ' D', ' Bessel', ' 47'],\n",
       " ['84', ' R', ' Ellip', ' 91'],\n",
       " ['85', ' B', ' Ellip', ' 97'],\n",
       " ['86', ' D', ' Bessel', ' 39'],\n",
       " ['87', ' F', ' Ellip', ' 96'],\n",
       " ['88', ' D', ' Bessel', ' 43'],\n",
       " ['89', ' B', ' Ellip', ' 89'],\n",
       " ['90', ' B', ' Ellip', ' 89'],\n",
       " ['91', ' R', ' Ellip', ' 91'],\n",
       " ['92', ' D', ' Ellip', ' 87'],\n",
       " ['93', ' M', ' Bessel', ' 55'],\n",
       " ['94', ' D', ' Bessel', ' 48'],\n",
       " ['95', ' R', ' Ellip', ' 76'],\n",
       " ['96', ' F', ' Bessel', ' 41'],\n",
       " ['97', ' R', ' Bessel', ' 38'],\n",
       " ['98', ' F', ' Ellip', ' 99'],\n",
       " ['99', ' F', ' Bessel', ' 27']]"
      ]
     },
     "execution_count": 243,
     "metadata": {},
     "output_type": "execute_result"
    }
   ],
   "source": [
    "# 最初の1行は実験結果ではないため削除します。\n",
    "only_results = l[1:]\n",
    "only_results"
   ]
  },
  {
   "cell_type": "code",
   "execution_count": null,
   "metadata": {},
   "outputs": [],
   "source": []
  },
  {
   "cell_type": "code",
   "execution_count": null,
   "metadata": {},
   "outputs": [],
   "source": []
  },
  {
   "cell_type": "code",
   "execution_count": null,
   "metadata": {},
   "outputs": [],
   "source": []
  },
  {
   "cell_type": "code",
   "execution_count": null,
   "metadata": {},
   "outputs": [],
   "source": []
  },
  {
   "cell_type": "code",
   "execution_count": 231,
   "metadata": {},
   "outputs": [],
   "source": [
    "# 実験結果を集めたフォルダです。\n",
    "csv_folder = \"/Users/okadamasayuki/Desktop/slider_experiment_bessel_ellip/実験結果/\"\n",
    "# 実験結果を保存したファイルです。\n",
    "csv_filename1 = \"alex_minスタート_1\"\n",
    "csv_filename2 = \"alex_minスタート_2\"\n",
    "csv_file_path1 = csv_folder + csv_filename1\n",
    "csv_file_path2 = csv_folder + csv_filename2"
   ]
  },
  {
   "cell_type": "code",
   "execution_count": 232,
   "metadata": {},
   "outputs": [],
   "source": [
    "# csvファイルの情報をリスト形式にしています。\n",
    "with open(csv_file_path1) as f:\n",
    "    reader = csv.reader(f)\n",
    "    l1 = [row for row in reader]\n",
    "    \n",
    "with open(csv_file_path2) as f:\n",
    "    reader = csv.reader(f)\n",
    "    l2 = [row for row in reader]"
   ]
  },
  {
   "cell_type": "code",
   "execution_count": 233,
   "metadata": {},
   "outputs": [
    {
     "data": {
      "text/plain": [
       "[['0', ' D', ' Ellip', ' 70'],\n",
       " ['1', ' F', ' Ellip', ' 105'],\n",
       " ['2', ' M', ' Bessel', ' 63'],\n",
       " ['3', ' D', ' Ellip', ' 75'],\n",
       " ['4', ' F', ' Ellip', ' 85'],\n",
       " ['5', ' M', ' Bessel', ' 42'],\n",
       " ['6', ' D', ' Bessel', ' 38'],\n",
       " ['7', ' B', ' Ellip', ' 69'],\n",
       " ['8', ' M', ' Ellip', ' 95'],\n",
       " ['9', ' B', ' Ellip', ' 87'],\n",
       " ['10', ' R', ' Ellip', ' 84'],\n",
       " ['11', ' M', ' Ellip', ' 92'],\n",
       " ['12', ' R', ' Bessel', ' 22'],\n",
       " ['13', ' D', ' Ellip', ' 94'],\n",
       " ['14', ' D', ' Bessel', ' 37'],\n",
       " ['15', ' F', ' Ellip', ' 88'],\n",
       " ['16', ' M', ' Ellip', ' 83'],\n",
       " ['17', ' M', ' Bessel', ' 55'],\n",
       " ['18', ' B', ' Bessel', ' 31'],\n",
       " ['19', ' M', ' Ellip', ' 89'],\n",
       " ['20', ' D', ' Ellip', ' 100'],\n",
       " ['21', ' B', ' Ellip', ' 96'],\n",
       " ['22', ' M', ' Ellip', ' 94'],\n",
       " ['23', ' F', ' Bessel', ' 34'],\n",
       " ['24', ' B', ' Bessel', ' 39'],\n",
       " ['25', ' R', ' Bessel', ' 21'],\n",
       " ['26', ' B', ' Bessel', ' 43'],\n",
       " ['27', ' B', ' Ellip', ' 90'],\n",
       " ['28', ' R', ' Ellip', ' 84'],\n",
       " ['29', ' D', ' Ellip', ' 97'],\n",
       " ['30', ' B', ' Ellip', ' 96'],\n",
       " ['31', ' F', ' Bessel', ' 41'],\n",
       " ['32', ' F', ' Ellip', ' 103'],\n",
       " ['33', ' F', ' Ellip', ' 95'],\n",
       " ['34', ' M', ' Bessel', ' 42'],\n",
       " ['35', ' F', ' Ellip', ' 87'],\n",
       " ['36', ' D', ' Bessel', ' 43'],\n",
       " ['37', ' F', ' Ellip', ' 87'],\n",
       " ['38', ' R', ' Ellip', ' 82'],\n",
       " ['39', ' R', ' Bessel', ' 21'],\n",
       " ['40', ' R', ' Ellip', ' 92'],\n",
       " ['41', ' R', ' Ellip', ' 87'],\n",
       " ['42', ' D', ' Bessel', ' 36'],\n",
       " ['43', ' D', ' Bessel', ' 37'],\n",
       " ['44', ' B', ' Ellip', ' 106'],\n",
       " ['45', ' R', ' Ellip', ' 87'],\n",
       " ['46', ' M', ' Ellip', ' 97'],\n",
       " ['47', ' B', ' Ellip', ' 86'],\n",
       " ['48', ' R', ' Bessel', ' 21'],\n",
       " ['49', ' M', ' Ellip', ' 95'],\n",
       " ['50', ' F', ' Bessel', ' 44'],\n",
       " ['51', ' D', ' Ellip', ' 79'],\n",
       " ['52', ' M', ' Bessel', ' 52'],\n",
       " ['53', ' B', ' Bessel', ' 47'],\n",
       " ['54', ' F', ' Bessel', ' 38'],\n",
       " ['55', ' R', ' Bessel', ' 23'],\n",
       " ['56', ' R', ' Ellip', ' 84'],\n",
       " ['57', ' R', ' Bessel', ' 24'],\n",
       " ['58', ' F', ' Ellip', ' 89'],\n",
       " ['59', ' D', ' Bessel', ' 49'],\n",
       " ['60', ' F', ' Bessel', ' 36'],\n",
       " ['61', ' R', ' Bessel', ' 21'],\n",
       " ['62', ' D', ' Bessel', ' 36'],\n",
       " ['63', ' M', ' Bessel', ' 39'],\n",
       " ['64', ' F', ' Bessel', ' 33'],\n",
       " ['65', ' B', ' Bessel', ' 40'],\n",
       " ['66', ' B', ' Ellip', ' 84'],\n",
       " ['67', ' M', ' Bessel', ' 41'],\n",
       " ['68', ' M', ' Bessel', ' 36'],\n",
       " ['69', ' M', ' Bessel', ' 33'],\n",
       " ['70', ' B', ' Ellip', ' 81'],\n",
       " ['71', ' M', ' Ellip', ' 97'],\n",
       " ['72', ' B', ' Ellip', ' 95'],\n",
       " ['73', ' B', ' Bessel', ' 32'],\n",
       " ['74', ' D', ' Ellip', ' 94'],\n",
       " ['75', ' B', ' Bessel', ' 31'],\n",
       " ['76', ' R', ' Bessel', ' 21'],\n",
       " ['77', ' R', ' Bessel', ' 21'],\n",
       " ['78', ' M', ' Ellip', ' 97'],\n",
       " ['79', ' B', ' Bessel', ' 32'],\n",
       " ['80', ' F', ' Ellip', ' 96'],\n",
       " ['81', ' R', ' Ellip', ' 95'],\n",
       " ['82', ' D', ' Bessel', ' 39'],\n",
       " ['83', ' D', ' Ellip', ' 91'],\n",
       " ['84', ' R', ' Ellip', ' 89'],\n",
       " ['85', ' D', ' Ellip', ' 95'],\n",
       " ['86', ' B', ' Bessel', ' 32'],\n",
       " ['87', ' F', ' Bessel', ' 32'],\n",
       " ['88', ' B', ' Bessel', ' 40'],\n",
       " ['89', ' D', ' Ellip', ' 103'],\n",
       " ['90', ' D', ' Bessel', ' 37'],\n",
       " ['91', ' F', ' Ellip', ' 96'],\n",
       " ['92', ' F', ' Bessel', ' 30'],\n",
       " ['93', ' R', ' Bessel', ' 22'],\n",
       " ['94', ' M', ' Bessel', ' 37'],\n",
       " ['95', ' F', ' Bessel', ' 32'],\n",
       " ['96', ' F', ' Bessel', ' 32'],\n",
       " ['97', ' R', ' Ellip', ' 106'],\n",
       " ['98', ' D', ' Bessel', ' 45'],\n",
       " ['99', ' M', ' Ellip', ' 93'],\n",
       " ['0', ' F', ' Ellip', ' 82'],\n",
       " ['1', ' F', ' Bessel', ' 31'],\n",
       " ['2', ' B', ' Ellip', ' 87'],\n",
       " ['3', ' M', ' Ellip', ' 91'],\n",
       " ['4', ' B', ' Bessel', ' 43'],\n",
       " ['5', ' M', ' Bessel', ' 42'],\n",
       " ['6', ' M', ' Ellip', ' 100'],\n",
       " ['7', ' M', ' Bessel', ' 36'],\n",
       " ['8', ' M', ' Ellip', ' 95'],\n",
       " ['9', ' D', ' Ellip', ' 74'],\n",
       " ['10', ' F', ' Bessel', ' 37'],\n",
       " ['11', ' F', ' Bessel', ' 32'],\n",
       " ['12', ' D', ' Ellip', ' 77'],\n",
       " ['13', ' D', ' Bessel', ' 36'],\n",
       " ['14', ' M', ' Bessel', ' 34'],\n",
       " ['15', ' R', ' Bessel', ' 25'],\n",
       " ['16', ' D', ' Ellip', ' 21'],\n",
       " ['17', ' M', ' Bessel', ' 21'],\n",
       " ['18', ' F', ' Ellip', ' 21'],\n",
       " ['19', ' B', ' Ellip', ' 21'],\n",
       " ['20', ' D', ' Bessel', ' 21'],\n",
       " ['21', ' F', ' Ellip', ' 21'],\n",
       " ['22', ' D', ' Ellip', ' 21'],\n",
       " ['23', ' F', ' Ellip', ' 21'],\n",
       " ['24', ' B', ' Ellip', ' 21'],\n",
       " ['25', ' D', ' Bessel', ' 21'],\n",
       " ['26', ' B', ' Ellip', ' 21'],\n",
       " ['27', ' B', ' Bessel', ' 41'],\n",
       " ['28', ' R', ' Bessel', ' 22'],\n",
       " ['29', ' B', ' Bessel', ' 35'],\n",
       " ['30', ' R', ' Ellip', ' 77'],\n",
       " ['31', ' D', ' Ellip', ' 74'],\n",
       " ['32', ' R', ' Bessel', ' 22'],\n",
       " ['33', ' M', ' Ellip', ' 94'],\n",
       " ['34', ' F', ' Bessel', ' 33'],\n",
       " ['35', ' D', ' Ellip', ' 74'],\n",
       " ['36', ' M', ' Ellip', ' 95'],\n",
       " ['37', ' R', ' Bessel', ' 22'],\n",
       " ['38', ' B', ' Bessel', ' 47'],\n",
       " ['39', ' F', ' Bessel', ' 33'],\n",
       " ['40', ' R', ' Ellip', ' 83'],\n",
       " ['41', ' D', ' Ellip', ' 73'],\n",
       " ['42', ' D', ' Bessel', ' 36'],\n",
       " ['43', ' B', ' Bessel', ' 35'],\n",
       " ['44', ' M', ' Bessel', ' 35'],\n",
       " ['45', ' R', ' Bessel', ' 21'],\n",
       " ['46', ' R', ' Ellip', ' 83'],\n",
       " ['47', ' D', ' Bessel', ' 32'],\n",
       " ['48', ' B', ' Ellip', ' 70'],\n",
       " ['49', ' F', ' Bessel', ' 32'],\n",
       " ['50', ' F', ' Ellip', ' 93'],\n",
       " ['51', ' R', ' Ellip', ' 83'],\n",
       " ['52', ' F', ' Ellip', ' 97'],\n",
       " ['53', ' F', ' Ellip', ' 96'],\n",
       " ['54', ' B', ' Bessel', ' 43'],\n",
       " ['55', ' R', ' Ellip', ' 94'],\n",
       " ['56', ' D', ' Ellip', ' 94'],\n",
       " ['57', ' D', ' Ellip', ' 93'],\n",
       " ['58', ' D', ' Bessel', ' 36'],\n",
       " ['59', ' F', ' Bessel', ' 31'],\n",
       " ['60', ' R', ' Ellip', ' 100'],\n",
       " ['61', ' B', ' Bessel', ' 33'],\n",
       " ['62', ' R', ' Bessel', ' 21'],\n",
       " ['63', ' F', ' Ellip', ' 91'],\n",
       " ['64', ' F', ' Bessel', ' 33'],\n",
       " ['65', ' B', ' Bessel', ' 34'],\n",
       " ['66', ' R', ' Ellip', ' 21'],\n",
       " ['67', ' B', ' Ellip', ' 21'],\n",
       " ['68', ' R', ' Bessel', ' 21'],\n",
       " ['69', ' M', ' Ellip', ' 21'],\n",
       " ['70', ' M', ' Ellip', ' 21'],\n",
       " ['71', ' M', ' Bessel', ' 21'],\n",
       " ['72', ' R', ' Bessel', ' 21'],\n",
       " ['73', ' M', ' Ellip', ' 93'],\n",
       " ['74', ' D', ' Bessel', ' 33'],\n",
       " ['75', ' D', ' Ellip', ' 102'],\n",
       " ['76', ' F', ' Bessel', ' 34'],\n",
       " ['77', ' M', ' Bessel', ' 35'],\n",
       " ['78', ' B', ' Ellip', ' 100'],\n",
       " ['79', ' R', ' Bessel', ' 22'],\n",
       " ['80', ' B', ' Ellip', ' 104'],\n",
       " ['81', ' M', ' Bessel', ' 31'],\n",
       " ['82', ' B', ' Ellip', ' 94'],\n",
       " ['83', ' M', ' Ellip', ' 97'],\n",
       " ['84', ' R', ' Ellip', ' 94'],\n",
       " ['85', ' M', ' Bessel', ' 34'],\n",
       " ['86', ' D', ' Bessel', ' 34'],\n",
       " ['87', ' F', ' Ellip', ' 95'],\n",
       " ['88', ' B', ' Ellip', ' 102'],\n",
       " ['89', ' D', ' Bessel', ' 34'],\n",
       " ['90', ' R', ' Ellip', ' 95'],\n",
       " ['91', ' B', ' Bessel', ' 33'],\n",
       " ['92', ' R', ' Ellip', ' 94'],\n",
       " ['93', ' F', ' Bessel', ' 30'],\n",
       " ['94', ' D', ' Bessel', ' 30'],\n",
       " ['95', ' M', ' Ellip', ' 99'],\n",
       " ['96', ' M', ' Bessel', ' 40'],\n",
       " ['97', ' F', ' Ellip', ' 93'],\n",
       " ['98', ' R', ' Bessel', ' 23'],\n",
       " ['99', ' B', ' Bessel', ' 35']]"
      ]
     },
     "execution_count": 233,
     "metadata": {},
     "output_type": "execute_result"
    }
   ],
   "source": [
    "# 最初の1行は実験結果ではないため削除します。\n",
    "only_results1 = l1[1:]\n",
    "only_results2 = l2[1:]\n",
    "only_results = only_results1 + only_results2\n",
    "only_results"
   ]
  },
  {
   "cell_type": "code",
   "execution_count": null,
   "metadata": {},
   "outputs": [],
   "source": []
  },
  {
   "cell_type": "code",
   "execution_count": null,
   "metadata": {},
   "outputs": [],
   "source": []
  },
  {
   "cell_type": "code",
   "execution_count": null,
   "metadata": {},
   "outputs": [],
   "source": []
  },
  {
   "cell_type": "code",
   "execution_count": null,
   "metadata": {},
   "outputs": [],
   "source": []
  },
  {
   "cell_type": "code",
   "execution_count": 244,
   "metadata": {},
   "outputs": [],
   "source": [
    "# 各要素の１つ目の情報は「何回目の試行か」です。それを削除しました。\n",
    "without_trial_num = [[] for i in range(len(only_results))]\n",
    "for i in range(len(only_results)):\n",
    "    without_trial_num[i]=[only_results[i][1][1:], only_results[i][2][1:], int(only_results[i][3])]"
   ]
  },
  {
   "cell_type": "code",
   "execution_count": 245,
   "metadata": {},
   "outputs": [
    {
     "data": {
      "text/plain": [
       "[['R', 'Ellip', 83],\n",
       " ['D', 'Bessel', 30],\n",
       " ['F', 'Bessel', 21],\n",
       " ['F', 'Bessel', 22],\n",
       " ['F', 'Ellip', 106],\n",
       " ['D', 'Bessel', 31],\n",
       " ['B', 'Bessel', 30],\n",
       " ['D', 'Ellip', 96],\n",
       " ['B', 'Bessel', 43],\n",
       " ['M', 'Bessel', 44],\n",
       " ['D', 'Bessel', 33],\n",
       " ['M', 'Ellip', 121],\n",
       " ['M', 'Ellip', 111],\n",
       " ['B', 'Ellip', 108],\n",
       " ['F', 'Bessel', 23],\n",
       " ['R', 'Bessel', 23],\n",
       " ['R', 'Bessel', 23],\n",
       " ['B', 'Bessel', 37],\n",
       " ['M', 'Bessel', 34],\n",
       " ['M', 'Bessel', 33],\n",
       " ['R', 'Bessel', 25],\n",
       " ['D', 'Ellip', 108],\n",
       " ['R', 'Ellip', 91],\n",
       " ['M', 'Ellip', 101],\n",
       " ['D', 'Ellip', 99],\n",
       " ['D', 'Ellip', 103],\n",
       " ['R', 'Bessel', 24],\n",
       " ['D', 'Ellip', 116],\n",
       " ['D', 'Ellip', 95],\n",
       " ['R', 'Ellip', 104],\n",
       " ['R', 'Bessel', 24],\n",
       " ['D', 'Bessel', 50],\n",
       " ['R', 'Ellip', 94],\n",
       " ['R', 'Bessel', 24],\n",
       " ['F', 'Bessel', 24],\n",
       " ['M', 'Ellip', 110],\n",
       " ['F', 'Ellip', 106],\n",
       " ['F', 'Bessel', 25],\n",
       " ['R', 'Bessel', 25],\n",
       " ['B', 'Bessel', 45],\n",
       " ['B', 'Ellip', 99],\n",
       " ['F', 'Bessel', 27],\n",
       " ['M', 'Bessel', 90],\n",
       " ['B', 'Bessel', 35],\n",
       " ['D', 'Bessel', 37],\n",
       " ['B', 'Ellip', 100],\n",
       " ['M', 'Bessel', 25],\n",
       " ['M', 'Ellip', 111],\n",
       " ['F', 'Ellip', 106],\n",
       " ['B', 'Ellip', 99],\n",
       " ['F', 'Ellip', 103],\n",
       " ['M', 'Bessel', 43],\n",
       " ['B', 'Ellip', 95],\n",
       " ['B', 'Bessel', 44],\n",
       " ['F', 'Ellip', 108],\n",
       " ['B', 'Bessel', 40],\n",
       " ['D', 'Ellip', 96],\n",
       " ['R', 'Ellip', 85],\n",
       " ['F', 'Bessel', 25],\n",
       " ['R', 'Ellip', 93],\n",
       " ['B', 'Ellip', 85],\n",
       " ['B', 'Bessel', 43],\n",
       " ['F', 'Ellip', 97],\n",
       " ['F', 'Bessel', 23],\n",
       " ['F', 'Ellip', 104],\n",
       " ['D', 'Bessel', 39],\n",
       " ['M', 'Ellip', 100],\n",
       " ['B', 'Ellip', 91],\n",
       " ['R', 'Bessel', 25],\n",
       " ['M', 'Bessel', 45],\n",
       " ['M', 'Ellip', 100],\n",
       " ['R', 'Bessel', 25],\n",
       " ['M', 'Ellip', 103],\n",
       " ['M', 'Ellip', 94],\n",
       " ['D', 'Ellip', 103],\n",
       " ['D', 'Ellip', 102],\n",
       " ['M', 'Bessel', 51],\n",
       " ['F', 'Ellip', 101],\n",
       " ['M', 'Ellip', 103],\n",
       " ['B', 'Bessel', 46],\n",
       " ['B', 'Bessel', 43],\n",
       " ['R', 'Ellip', 101],\n",
       " ['M', 'Bessel', 44],\n",
       " ['D', 'Bessel', 47],\n",
       " ['R', 'Ellip', 91],\n",
       " ['B', 'Ellip', 97],\n",
       " ['D', 'Bessel', 39],\n",
       " ['F', 'Ellip', 96],\n",
       " ['D', 'Bessel', 43],\n",
       " ['B', 'Ellip', 89],\n",
       " ['B', 'Ellip', 89],\n",
       " ['R', 'Ellip', 91],\n",
       " ['D', 'Ellip', 87],\n",
       " ['M', 'Bessel', 55],\n",
       " ['D', 'Bessel', 48],\n",
       " ['R', 'Ellip', 76],\n",
       " ['F', 'Bessel', 41],\n",
       " ['R', 'Bessel', 38],\n",
       " ['F', 'Ellip', 99],\n",
       " ['F', 'Bessel', 27]]"
      ]
     },
     "execution_count": 245,
     "metadata": {},
     "output_type": "execute_result"
    }
   ],
   "source": [
    "without_trial_num"
   ]
  },
  {
   "cell_type": "code",
   "execution_count": 246,
   "metadata": {},
   "outputs": [
    {
     "data": {
      "text/plain": [
       "[['B', 'Bessel'],\n",
       " ['B', 'Ellip'],\n",
       " ['D', 'Bessel'],\n",
       " ['D', 'Ellip'],\n",
       " ['F', 'Bessel'],\n",
       " ['F', 'Ellip'],\n",
       " ['M', 'Bessel'],\n",
       " ['M', 'Ellip'],\n",
       " ['R', 'Bessel'],\n",
       " ['R', 'Ellip']]"
      ]
     },
     "execution_count": 246,
     "metadata": {},
     "output_type": "execute_result"
    }
   ],
   "source": [
    "# 表示アルファベットとフィルタについて、全てを網羅したリストを作成します。\n",
    "Filter = [ 'Bessel', 'Ellip']\n",
    "use_alphabets = [\"B\",\"D\",\"F\",\"M\",\"R\"]\n",
    "comprehensive_elements = []\n",
    "\n",
    "for a in range(len(use_alphabets)):\n",
    "    for f in range(len(Filter)):\n",
    "        comprehensive_elements.append([use_alphabets[a], Filter[f]])\n",
    "\n",
    "comprehensive_elements"
   ]
  },
  {
   "cell_type": "code",
   "execution_count": 247,
   "metadata": {},
   "outputs": [],
   "source": [
    "# 上のセルで作成した 表示アルファベットとフィルタの全てを網羅したリストに対して、被験者が回答したcpdを集めます。\n",
    "subject_answer = [ [] for i in range(len(comprehensive_elements))]\n",
    "for j in range(len(without_trial_num)):\n",
    "    for k in range(len(comprehensive_elements)):\n",
    "        if  without_trial_num[j][0] == comprehensive_elements[k][0]:\n",
    "            if without_trial_num[j][1] == comprehensive_elements[k][1]:\n",
    "                subject_answer[k].append(without_trial_num[j][2])"
   ]
  },
  {
   "cell_type": "code",
   "execution_count": 248,
   "metadata": {},
   "outputs": [],
   "source": [
    "import matplotlib.pyplot as plt\n",
    "import numpy as np"
   ]
  },
  {
   "cell_type": "code",
   "execution_count": 249,
   "metadata": {},
   "outputs": [
    {
     "name": "stdout",
     "output_type": "stream",
     "text": [
      "['B', 'Bessel']    平均CPD: 40.6    CPDの標準偏差: 4.841487374764082\n",
      "['B', 'Ellip']    平均CPD: 95.2    CPDの標準偏差: 6.462197768561405\n",
      "['D', 'Bessel']    平均CPD: 39.7    CPDの標準偏差: 6.797793759742936\n",
      "['D', 'Ellip']    平均CPD: 100.5    CPDの標準偏差: 7.526619427073485\n",
      "['F', 'Bessel']    平均CPD: 25.8    CPDの標準偏差: 5.4\n",
      "['F', 'Ellip']    平均CPD: 102.6    CPDの標準偏差: 3.9547439866570375\n",
      "['M', 'Bessel']    平均CPD: 46.4    CPDの標準偏差: 16.770211686201222\n",
      "['M', 'Ellip']    平均CPD: 105.4    CPDの標準偏差: 7.391887445030531\n",
      "['R', 'Bessel']    平均CPD: 25.6    CPDの標準偏差: 4.2\n",
      "['R', 'Ellip']    平均CPD: 90.9    CPDの標準偏差: 7.790378681424928\n"
     ]
    },
    {
     "data": {
      "image/png": "[encoded data removed]",
      "text/plain": [
       "<Figure size 432x288 with 1 Axes>"
      ]
     },
     "metadata": {
      "needs_background": "light"
     },
     "output_type": "display_data"
    }
   ],
   "source": [
    "# 特定のアルファベット、フィルタを用いたときにCPDの平均値と標準偏差がどのように表示されるかを表示しました。\n",
    "for i in range(len(subject_answer)):\n",
    "    m = np.mean(subject_answer[i])\n",
    "    # どのアルファベット、フィルタを用いてるかを表示します。\n",
    "    print(comprehensive_elements[i], end=\"    \")\n",
    "    # 見えにくさを若干改善しました。\n",
    "#     if i >= len(subject_answer)/2:\n",
    "#         print(end=\"    \")\n",
    "    print(\"平均CPD:\",m, end=\"    \")\n",
    "    print(\"CPDの標準偏差:\",np.std(subject_answer[i]))\n",
    "\n",
    "comprehensive_elements_notALPHABET = [[] for j in range(len(comprehensive_elements))]\n",
    "for k in range(len(comprehensive_elements)):\n",
    "    # use_alphabets = [\"B\",\"D\",\"F\",\"M\",\"R\"]\n",
    "    for j in range(len(use_alphabets)):\n",
    "        if comprehensive_elements[k][0] == use_alphabets[j]:\n",
    "            comprehensive_elements_notALPHABET[k] = [j, comprehensive_elements[k][1]]\n",
    "# print(comprehensive_elements_notALPHABET)\n",
    "            \n",
    "for i in range(len(subject_answer)):\n",
    "    m = np.mean(subject_answer[i])\n",
    "    plt.grid(True)\n",
    "    plt.scatter(i,m/10.0)\n",
    "    plt.ylabel('CPD')\n",
    "    plt.text(i,m/10.0,comprehensive_elements[i])\n",
    "plt.show()"
   ]
  },
  {
   "cell_type": "code",
   "execution_count": 250,
   "metadata": {},
   "outputs": [
    {
     "name": "stdout",
     "output_type": "stream",
     "text": [
      "['B', 'Bessel']    平均CPD: 40.6    CPDの標準偏差: 4.841487374764082\n",
      "['B', 'Ellip']    平均CPD: 95.2    CPDの標準偏差: 6.462197768561405\n",
      "['D', 'Bessel']    平均CPD: 39.7    CPDの標準偏差: 6.797793759742936\n",
      "['D', 'Ellip']    平均CPD: 100.5    CPDの標準偏差: 7.526619427073485\n",
      "['F', 'Bessel']    平均CPD: 25.8    CPDの標準偏差: 5.4\n",
      "['F', 'Ellip']        平均CPD: 102.6    CPDの標準偏差: 3.9547439866570375\n",
      "['M', 'Bessel']        平均CPD: 46.4    CPDの標準偏差: 16.770211686201222\n",
      "['M', 'Ellip']        平均CPD: 105.4    CPDの標準偏差: 7.391887445030531\n",
      "['R', 'Bessel']        平均CPD: 25.6    CPDの標準偏差: 4.2\n",
      "['R', 'Ellip']        平均CPD: 90.9    CPDの標準偏差: 7.790378681424928\n",
      "[[0, 'Bessel'], [0, 'Ellip'], [1, 'Bessel'], [1, 'Ellip'], [2, 'Bessel'], [2, 'Ellip'], [3, 'Bessel'], [3, 'Ellip'], [4, 'Bessel'], [4, 'Ellip']]\n"
     ]
    },
    {
     "data": {
      "image/png": "[encoded data removed]",
      "text/plain": [
       "<Figure size 432x288 with 1 Axes>"
      ]
     },
     "metadata": {
      "needs_background": "light"
     },
     "output_type": "display_data"
    }
   ],
   "source": [
    "# 特定のアルファベット、フィルタを用いたときにCPDの平均値と標準偏差がどのように表示されるかを表示しました。\n",
    "for i in range(len(subject_answer)):\n",
    "    m = np.mean(subject_answer[i])\n",
    "    # どのアルファベット、フィルタを用いてるかを表示します。\n",
    "    print(comprehensive_elements[i], end=\"    \")\n",
    "    # 見えにくさを若干改善しました。\n",
    "    if i >= len(subject_answer)/2:\n",
    "        print(end=\"    \")\n",
    "    print(\"平均CPD:\",m, end=\"    \")\n",
    "    print(\"CPDの標準偏差:\",np.std(subject_answer[i]))\n",
    "\n",
    "comprehensive_elements_notALPHABET = [[] for j in range(len(comprehensive_elements))]\n",
    "for k in range(len(comprehensive_elements)):\n",
    "    # use_alphabets = [\"B\",\"D\",\"F\",\"M\",\"R\"]\n",
    "    for j in range(len(use_alphabets)):\n",
    "        if comprehensive_elements[k][0] == use_alphabets[j]:\n",
    "            comprehensive_elements_notALPHABET[k] = [j, comprehensive_elements[k][1]]\n",
    "print(comprehensive_elements_notALPHABET)\n",
    "            \n",
    "for i in range(len(subject_answer)):\n",
    "    m = np.mean(subject_answer[i])\n",
    "    plt.grid(True)\n",
    "    plt.scatter(i,m/10.0)\n",
    "    plt.ylabel('CPD')\n",
    "    plt.text(i,m/10.0,comprehensive_elements[i])\n",
    "plt.show()"
   ]
  },
  {
   "cell_type": "code",
   "execution_count": 251,
   "metadata": {},
   "outputs": [
    {
     "name": "stdout",
     "output_type": "stream",
     "text": [
      "35.62\n",
      "98.91999999999999\n"
     ]
    }
   ],
   "source": [
    "b=[]\n",
    "e=[]\n",
    "for i in range(len(subject_answer)):\n",
    "    m = np.mean(subject_answer[i])\n",
    "    if i % 2 == 0:\n",
    "        b.append(m)\n",
    "    if i % 2 ==1:\n",
    "        e.append(m)\n",
    "print(np.mean(b))\n",
    "print(np.mean(e))"
   ]
  },
  {
   "cell_type": "code",
   "execution_count": null,
   "metadata": {},
   "outputs": [],
   "source": []
  },
  {
   "cell_type": "code",
   "execution_count": 252,
   "metadata": {},
   "outputs": [
    {
     "name": "stdout",
     "output_type": "stream",
     "text": [
      "[30, 43, 37, 45, 35, 44, 40, 43, 46, 43]\n",
      "[108, 99, 100, 99, 95, 85, 91, 97, 89, 89]\n",
      "[30, 31, 33, 50, 37, 39, 47, 39, 43, 48]\n",
      "[96, 108, 99, 103, 116, 95, 96, 103, 102, 87]\n",
      "[21, 22, 23, 24, 25, 27, 25, 23, 41, 27]\n",
      "[106, 106, 106, 103, 108, 97, 104, 101, 96, 99]\n",
      "[44, 34, 33, 90, 25, 43, 45, 51, 44, 55]\n",
      "[121, 111, 101, 110, 111, 100, 100, 103, 94, 103]\n",
      "[23, 23, 25, 24, 24, 24, 25, 25, 25, 38]\n",
      "[83, 91, 104, 94, 85, 93, 101, 91, 91, 76]\n"
     ]
    }
   ],
   "source": [
    "for i in range(len(subject_answer)):\n",
    "    print(subject_answer[i])"
   ]
  },
  {
   "cell_type": "code",
   "execution_count": 253,
   "metadata": {
    "scrolled": false
   },
   "outputs": [
    {
     "data": {
      "image/png": "[encoded data removed]",
      "text/plain": [
       "<Figure size 432x288 with 1 Axes>"
      ]
     },
     "metadata": {
      "needs_background": "light"
     },
     "output_type": "display_data"
    }
   ],
   "source": [
    "for i in range(len(subject_answer)):\n",
    "    if i%2 ==0:\n",
    "        plt.plot(subject_answer[i],'b')\n",
    "    else:\n",
    "        plt.plot(subject_answer[i],'r')\n",
    "#     plt.show()"
   ]
  },
  {
   "cell_type": "code",
   "execution_count": null,
   "metadata": {},
   "outputs": [],
   "source": []
  },
  {
   "cell_type": "code",
   "execution_count": null,
   "metadata": {},
   "outputs": [],
   "source": []
  }
 ],
 "metadata": {
  "kernelspec": {
   "display_name": "Python 3",
   "language": "python",
   "name": "python3"
  },
  "language_info": {
   "codemirror_mode": {
    "name": "ipython",
    "version": 3
   },
   "file_extension": ".py",
   "mimetype": "text/x-python",
   "name": "python",
   "nbconvert_exporter": "python",
   "pygments_lexer": "ipython3",
   "version": "3.7.4"
  }
 },
 "nbformat": 4,
 "nbformat_minor": 2
}
