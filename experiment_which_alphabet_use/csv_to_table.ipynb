{
 "cells": [
  {
   "cell_type": "code",
   "execution_count": 1,
   "metadata": {},
   "outputs": [],
   "source": [
    "import csv\n",
    "import pprint"
   ]
  },
  {
   "cell_type": "code",
   "execution_count": 5,
   "metadata": {},
   "outputs": [],
   "source": [
    "csv_folder = \"\"\n",
    "\n",
    "# ここを変更してください。\n",
    "csv_filename = \"okada_cpd3\"\n",
    "#####\n",
    "\n",
    "csv_file_path = csv_folder + csv_filename"
   ]
  },
  {
   "cell_type": "code",
   "execution_count": 6,
   "metadata": {},
   "outputs": [],
   "source": [
    "with open(csv_file_path) as f:\n",
    "    reader = csv.reader(f)\n",
    "    l = [row for row in reader]"
   ]
  },
  {
   "cell_type": "code",
   "execution_count": 7,
   "metadata": {},
   "outputs": [
    {
     "name": "stdout",
     "output_type": "stream",
     "text": [
      "['1', ' Butterworth Filter', ' 3', ' U', ' U']\n",
      "['2', ' Butterworth Filter', ' 3', ' P', ' ']\n",
      "['3', ' Butterworth Filter', ' 3', ' I', ' ']\n",
      "['4', ' Butterworth Filter', ' 3', ' W', ' ']\n",
      "['5', ' Butterworth Filter', ' 3', ' B', ' T']\n",
      "['6', ' Butterworth Filter', ' 3', ' Y', ' Y']\n",
      "['7', ' Butterworth Filter', ' 3', ' M', ' U']\n",
      "['8', ' Butterworth Filter', ' 3', ' P', ' ']\n",
      "['9', ' Butterworth Filter', ' 3', ' D', ' O']\n",
      "['10', ' Butterworth Filter', ' 3', ' K', ' K']\n",
      "['11', ' Butterworth Filter', ' 3', ' H', ' X']\n",
      "['12', ' Butterworth Filter', ' 3', ' S', ' ']\n",
      "['13', ' Butterworth Filter', ' 3', ' F', ' ']\n",
      "['14', ' Butterworth Filter', ' 3', ' Q', ' Q']\n",
      "['15', ' Butterworth Filter', ' 3', ' Z', ' ']\n",
      "['16', ' Butterworth Filter', ' 3', ' Z', ' X']\n",
      "['17', ' Butterworth Filter', ' 3', ' K', ' K']\n",
      "['18', ' Butterworth Filter', ' 3', ' V', ' ']\n",
      "['19', ' Butterworth Filter', ' 3', ' O', ' O']\n",
      "['20', ' Butterworth Filter', ' 3', ' O', ' O']\n",
      "['21', ' Butterworth Filter', ' 3', ' D', ' Q']\n",
      "['22', ' Butterworth Filter', ' 3', ' F', ' ']\n",
      "['23', ' Butterworth Filter', ' 3', ' X', ' X']\n",
      "['24', ' Butterworth Filter', ' 3', ' G', ' G']\n",
      "['25', ' Butterworth Filter', ' 3', ' W', ' ']\n",
      "['26', ' Butterworth Filter', ' 3', ' V', ' ']\n",
      "['27', ' Butterworth Filter', ' 3', ' X', ' X']\n",
      "['28', ' Butterworth Filter', ' 3', ' L', ' ']\n",
      "['29', ' Butterworth Filter', ' 3', ' R', ' X']\n",
      "['30', ' Butterworth Filter', ' 3', ' M', ' ']\n",
      "['31', ' Butterworth Filter', ' 3', ' L', ' ']\n",
      "['32', ' Butterworth Filter', ' 3', ' R', ' ']\n",
      "['33', ' Butterworth Filter', ' 3', ' B', ' ']\n",
      "['34', ' Butterworth Filter', ' 3', ' C', ' C']\n",
      "['35', ' Butterworth Filter', ' 3', ' Q', ' D']\n",
      "['36', ' Butterworth Filter', ' 3', ' S', ' ']\n",
      "['37', ' Butterworth Filter', ' 3', ' E', ' ']\n",
      "['38', ' Butterworth Filter', ' 3', ' I', ' ']\n",
      "['39', ' Butterworth Filter', ' 3', ' T', ' T']\n",
      "['40', ' Butterworth Filter', ' 3', ' N', ' ']\n",
      "['41', ' Butterworth Filter', ' 3', ' A', ' A']\n",
      "['42', ' Butterworth Filter', ' 3', ' A', ' A']\n",
      "['43', ' Butterworth Filter', ' 3', ' G', ' U']\n",
      "['44', ' Butterworth Filter', ' 3', ' J', ' ']\n",
      "['45', ' Butterworth Filter', ' 3', ' C', ' C']\n",
      "['46', ' Butterworth Filter', ' 3', ' Y', ' Y']\n",
      "['47', ' Butterworth Filter', ' 3', ' T', ' T']\n",
      "['48', ' Butterworth Filter', ' 3', ' U', ' U']\n",
      "['49', ' Butterworth Filter', ' 3', ' E', ' K']\n",
      "['50', ' Butterworth Filter', ' 3', ' N', ' ']\n",
      "['51', ' Butterworth Filter', ' 3', ' H', ' H']\n",
      "['52', ' Butterworth Filter', ' 3', ' J', ' J']\n"
     ]
    }
   ],
   "source": [
    "# 最初の3行は実験結果ではないため削除します。\n",
    "only_results = l[4:]\n",
    "\n",
    "for i in range(len(only_results)):\n",
    "    print(only_results[i])"
   ]
  },
  {
   "cell_type": "code",
   "execution_count": 8,
   "metadata": {},
   "outputs": [],
   "source": [
    "# 各要素の[0](何試行目か？)、[1](どのフィルタを使ったか？）、[2](cpd)を消去します。\n",
    "# どのアルファベットを使うか実験ではバタワースフィルタしか使っていないため、フィルタ情報も取り除きます。\n",
    "# okada_cpd3には、cpd＝３しかないため。\n",
    "\n",
    "# 正答のみを集めます。インデックスと、何試行目か？が対応してます。\n",
    "correct_answer_list = []\n",
    "\n",
    "subject_answer_list = []\n",
    "\n",
    "for only_results_element_index in range(len(only_results)):\n",
    "    correct_answer_list.append(only_results[only_results_element_index][3])\n",
    "    subject_answer_list.append(only_results[only_results_element_index][4])"
   ]
  },
  {
   "cell_type": "code",
   "execution_count": 9,
   "metadata": {},
   "outputs": [
    {
     "name": "stdout",
     "output_type": "stream",
     "text": [
      "['U', 'Y', 'K', 'Q', 'K', 'O', 'O', 'X', 'G', 'X', 'C', 'T', 'A', 'A', 'C', 'Y', 'T', 'U', 'H', 'J']\n"
     ]
    }
   ],
   "source": [
    "# 被験者が正答したアルファベットを保存するリストです。\n",
    "subject_correct_alphabet = []\n",
    "\n",
    "for i in range(len(correct_answer_list)):\n",
    "    # 被験者が正答した時のアルファベットを表示します。\n",
    "    if correct_answer_list[i] == subject_answer_list[i]:\n",
    "        # 文字の前にスペースがあったため、[1]によってそのスペースを削除しました。\n",
    "        subject_correct_alphabet.append(correct_answer_list[i][1])\n",
    "        \n",
    "print(subject_correct_alphabet)"
   ]
  },
  {
   "cell_type": "code",
   "execution_count": 10,
   "metadata": {},
   "outputs": [],
   "source": [
    "all_alphabets =[\"A\", \"B\", \"C\", \"D\", \"E\", \"F\", \"G\", \"H\", \"I\", \"J\", \"K\", \"L\", \"M\", \"N\", \"O\", \"P\", \"Q\",\"R\",\"S\",\"T\",\"U\",\"V\",\"W\",\"X\",\"Y\",\"Z\"]"
   ]
  },
  {
   "cell_type": "code",
   "execution_count": 11,
   "metadata": {},
   "outputs": [
    {
     "name": "stdout",
     "output_type": "stream",
     "text": [
      "[2, 0, 2, 0, 0, 0, 1, 1, 0, 1, 2, 0, 0, 0, 2, 0, 1, 0, 0, 2, 2, 0, 0, 2, 2, 0]\n"
     ]
    }
   ],
   "source": [
    "# subject_correct_alphabetにある各アルファベットが何回正解しているか？\n",
    "# 今回は同じ画像を２度出力するようにプログラムしているため、０回or1回or２回\n",
    "\n",
    "alphabet_HowManyCorrect = [0 for i in range(len(all_alphabets))]\n",
    "# print(alphabet_HowManyCorrect)\n",
    "\n",
    "for subuject_correct_index in range(len(subject_correct_alphabet)):\n",
    "    for which_alphabet_checking in range(len(all_alphabets)):\n",
    "        if subject_correct_alphabet[subuject_correct_index] == all_alphabets[which_alphabet_checking]:\n",
    "            alphabet_HowManyCorrect[which_alphabet_checking] += 1\n",
    "\n",
    "print(alphabet_HowManyCorrect)"
   ]
  },
  {
   "cell_type": "code",
   "execution_count": 12,
   "metadata": {},
   "outputs": [
    {
     "name": "stdout",
     "output_type": "stream",
     "text": [
      "{'A': 2, 'B': 0, 'C': 2, 'D': 0, 'E': 0, 'F': 0, 'G': 1, 'H': 1, 'I': 0, 'J': 1, 'K': 2, 'L': 0, 'M': 0, 'N': 0, 'O': 2, 'P': 0, 'Q': 1, 'R': 0, 'S': 0, 'T': 2, 'U': 2, 'V': 0, 'W': 0, 'X': 2, 'Y': 2, 'Z': 0}\n"
     ]
    }
   ],
   "source": [
    "alphabet_HowManyCorrect_directory = {}\n",
    "\n",
    "for i in range(len(all_alphabets)):\n",
    "    alphabet_HowManyCorrect_directory[all_alphabets[i]] = alphabet_HowManyCorrect[i]\n",
    "    \n",
    "print(alphabet_HowManyCorrect_directory)"
   ]
  },
  {
   "cell_type": "code",
   "execution_count": 13,
   "metadata": {},
   "outputs": [
    {
     "name": "stdout",
     "output_type": "stream",
     "text": [
      "['B', 'D', 'E', 'F', 'I', 'L', 'M', 'N', 'P', 'R', 'S', 'V', 'W', 'Z']\n"
     ]
    }
   ],
   "source": [
    "# 特定の回数正解したアルファベット抽出します。\n",
    "designated_correct_num = 0\n",
    "designated_correct_num_alphabet = []\n",
    "\n",
    "for i in range(len(all_alphabets)):\n",
    "    if designated_correct_num == alphabet_HowManyCorrect_directory.get(all_alphabets[i]):\n",
    "        designated_correct_num_alphabet.append(all_alphabets[i])\n",
    "print(designated_correct_num_alphabet)"
   ]
  },
  {
   "cell_type": "code",
   "execution_count": 14,
   "metadata": {},
   "outputs": [],
   "source": [
    "# designated_correct_num = 2(全て正解した)　の場合は、その時のcpdよりも小さいcpdが読める読めないの境になる。\n",
    "\n",
    "# designated_correct_num = 1（全ては正解しなかったものの、一部正解した）　の場合は、その時のcpd以上のcpdが読める読めないの境になる。\n",
    "# 今のcpdも読める読めないの境界の選択肢に含まれる。\n",
    "\n",
    "# designated_correct_num = 0（全て不正解した）　の場合は、その時のcpdよりも大きいcpdが読める読めないの境になる。\n",
    "# 今のcpdは読める読めないの境界の選択肢に含まれない。"
   ]
  },
  {
   "cell_type": "code",
   "execution_count": null,
   "metadata": {},
   "outputs": [],
   "source": []
  },
  {
   "cell_type": "code",
   "execution_count": 15,
   "metadata": {},
   "outputs": [
    {
     "name": "stdout",
     "output_type": "stream",
     "text": [
      "['U', 'T', 'Y', 'U', 'O', 'K', 'X', 'Q', 'X', 'K', 'O', 'O', 'Q', 'X', 'G', 'X', 'X', 'C', 'D', 'T', 'A', 'A', 'U', 'C', 'Y', 'T', 'U', 'K', 'H', 'J']\n"
     ]
    }
   ],
   "source": [
    "# 被験者がどのアルファベットを何回応答したか？\n",
    "\n",
    "subject_HowManyResponse = []\n",
    "\n",
    "for i in range(len(subject_answer_list)):\n",
    "    if ' ' != subject_answer_list[i]:\n",
    "        subject_HowManyResponse.append(subject_answer_list[i][1])\n",
    "\n",
    "print(subject_HowManyResponse)"
   ]
  },
  {
   "cell_type": "code",
   "execution_count": 16,
   "metadata": {},
   "outputs": [
    {
     "name": "stdout",
     "output_type": "stream",
     "text": [
      "[2, 0, 2, 1, 0, 0, 1, 1, 0, 1, 3, 0, 0, 0, 3, 0, 2, 0, 0, 3, 4, 0, 0, 5, 2, 0]\n"
     ]
    }
   ],
   "source": [
    "alphabet_HowManySubjectResponse = [0 for i in range(len(all_alphabets))]\n",
    "\n",
    "for subuject_response_index in range(len(subject_HowManyResponse)):\n",
    "    for which_alphabet_checking in range(len(all_alphabets)):\n",
    "        if subject_HowManyResponse[subuject_response_index] == all_alphabets[which_alphabet_checking]:\n",
    "            alphabet_HowManySubjectResponse[which_alphabet_checking] += 1\n",
    "\n",
    "print(alphabet_HowManySubjectResponse)"
   ]
  },
  {
   "cell_type": "code",
   "execution_count": 17,
   "metadata": {},
   "outputs": [
    {
     "name": "stdout",
     "output_type": "stream",
     "text": [
      "{'A': 2, 'B': 0, 'C': 2, 'D': 1, 'E': 0, 'F': 0, 'G': 1, 'H': 1, 'I': 0, 'J': 1, 'K': 3, 'L': 0, 'M': 0, 'N': 0, 'O': 3, 'P': 0, 'Q': 2, 'R': 0, 'S': 0, 'T': 3, 'U': 4, 'V': 0, 'W': 0, 'X': 5, 'Y': 2, 'Z': 0}\n"
     ]
    }
   ],
   "source": [
    "\n",
    "alphabet_HowManySubjectResponse_directory = {}\n",
    "\n",
    "for i in range(len(all_alphabets)):\n",
    "    alphabet_HowManySubjectResponse_directory[all_alphabets[i]] = alphabet_HowManySubjectResponse[i]\n",
    "    \n",
    "print(alphabet_HowManySubjectResponse_directory)"
   ]
  },
  {
   "cell_type": "code",
   "execution_count": 56,
   "metadata": {},
   "outputs": [
    {
     "name": "stdout",
     "output_type": "stream",
     "text": [
      "['A', 'C', 'D', 'G', 'H', 'J', 'K', 'O', 'Q', 'T', 'U', 'X', 'Y']\n"
     ]
    }
   ],
   "source": [
    "# 特定の回数より多く回答したアルファベット抽出します。\n",
    "designated_response_num = 0\n",
    "designated_response_num_alphabet = []\n",
    "\n",
    "for i in range(len(all_alphabets)):\n",
    "    if designated_response_num < alphabet_HowManySubjectResponse_directory.get(all_alphabets[i]):\n",
    "        designated_response_num_alphabet.append(all_alphabets[i])\n",
    "print(designated_response_num_alphabet)"
   ]
  },
  {
   "cell_type": "code",
   "execution_count": null,
   "metadata": {},
   "outputs": [],
   "source": []
  },
  {
   "cell_type": "code",
   "execution_count": null,
   "metadata": {},
   "outputs": [],
   "source": []
  },
  {
   "cell_type": "code",
   "execution_count": 57,
   "metadata": {},
   "outputs": [
    {
     "name": "stdout",
     "output_type": "stream",
     "text": [
      "B\n",
      "E\n",
      "F\n",
      "I\n",
      "L\n",
      "M\n",
      "N\n",
      "P\n",
      "R\n",
      "S\n",
      "V\n",
      "W\n",
      "Z\n"
     ]
    }
   ],
   "source": [
    "for i in range(len(designated_correct_num_alphabet)):\n",
    "    if not  designated_correct_num_alphabet[i] in designated_response_num_alphabet:\n",
    "        print(designated_correct_num_alphabet[i])"
   ]
  },
  {
   "cell_type": "code",
   "execution_count": null,
   "metadata": {},
   "outputs": [],
   "source": []
  },
  {
   "cell_type": "code",
   "execution_count": null,
   "metadata": {},
   "outputs": [],
   "source": []
  }
 ],
 "metadata": {
  "kernelspec": {
   "display_name": "Python 3",
   "language": "python",
   "name": "python3"
  },
  "language_info": {
   "codemirror_mode": {
    "name": "ipython",
    "version": 3
   },
   "file_extension": ".py",
   "mimetype": "text/x-python",
   "name": "python",
   "nbconvert_exporter": "python",
   "pygments_lexer": "ipython3",
   "version": "3.7.4"
  }
 },
 "nbformat": 4,
 "nbformat_minor": 2
}
